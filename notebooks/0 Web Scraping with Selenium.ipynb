{
 "cells": [
  {
   "cell_type": "code",
   "execution_count": 1,
   "id": "9416e40b-d95d-4232-9779-31eb971dd08c",
   "metadata": {},
   "outputs": [],
   "source": [
    "# How many pages are there?\n",
    "NUM_PAGES = 1"
   ]
  },
  {
   "cell_type": "code",
   "execution_count": 2,
   "id": "f66521b7-676e-471a-b5ce-5f680d00bcd8",
   "metadata": {},
   "outputs": [],
   "source": [
    "from selenium import webdriver\n",
    "from selenium.webdriver.firefox.options import Options\n",
    "from selenium.webdriver.common.by import By\n",
    "from selenium.webdriver.support.ui import Select\n",
    "\n",
    "import requests\n",
    "from urllib.parse import urlsplit\n",
    "import os"
   ]
  },
  {
   "cell_type": "code",
   "execution_count": 3,
   "id": "18bebc38-310f-464e-be20-ca4b6038e663",
   "metadata": {},
   "outputs": [
    {
     "name": "stdout",
     "output_type": "stream",
     "text": [
      "Appended https://www.loc.gov/item/cfr1986092-T29CXIVP1691/\n",
      "Appended https://www.loc.gov/item/cfr1984093-T29CXIVP1691/\n",
      "Appended https://www.loc.gov/item/cfr1987099-T29CXIVP1691/\n",
      "Appended https://www.loc.gov/item/cfr1985092-T29CXIVP1691/\n",
      "Appended https://www.loc.gov/item/cfr1988106-T29CXIVP1691/\n",
      "Appended https://www.loc.gov/item/cfr1983098-T29CXIVP1691/\n",
      "Appended https://www.loc.gov/item/cfr1992107-T29CXIVP1691/\n",
      "Appended https://www.loc.gov/item/cfr1995112-T29CXIVP1691/\n",
      "Appended https://www.loc.gov/item/cfr1989106-T29CXIVP1691/\n",
      "Appended https://www.loc.gov/item/cfr1990108-T29CXIVP1691/\n",
      "Appended https://www.loc.gov/item/cfr1993109-T29CXIVP1691/\n",
      "Appended https://www.loc.gov/item/cfr1991107-T29CXIVP1691/\n",
      "Appended https://www.loc.gov/item/cfr1994109-T29CXIVP1691/\n",
      "Appended https://www.loc.gov/item/cfr1992107-T29CXIVP1641/\n",
      "Appended https://www.loc.gov/item/cfr1995112-T29CXIVP1641/\n",
      "Appended https://www.loc.gov/item/cfr1993109-T29CXIVP1641/\n",
      "Appended https://www.loc.gov/item/cfr1994109-T29CXIVP1641/\n",
      "Appended https://www.loc.gov/item/cfr1992152-T41C60P60-742/\n",
      "Appended https://www.loc.gov/item/cfr1995159-T41C60P60-742/\n",
      "Appended https://www.loc.gov/item/cfr1993155-T41C60P60-742/\n",
      "Appended https://www.loc.gov/item/cfr1994156-T41C60P60-742/\n",
      "Appended https://www.loc.gov/item/cfr1995107-T28CIP37/\n",
      "Appended https://www.loc.gov/item/usrep468042/\n",
      "Appended https://www.loc.gov/item/usrep493182/\n",
      "Appended https://www.loc.gov/item/usrep517308/\n"
     ]
    }
   ],
   "source": [
    "links = []\n",
    "\n",
    "# Open browser\n",
    "driver = webdriver.Chrome()\n",
    "\n",
    "for page_num in range(1,NUM_PAGES+1):\n",
    "    driver.get(\"https://www.loc.gov/search/?fa=original-format:periodical&q=%22employment+discrimination%22&sp=\"+str(page_num))\n",
    "\n",
    "    # Locate all parent elements (e.g., with class name 'parent-class')\n",
    "    parent_elements = driver.find_elements(By.CLASS_NAME, 'item-description-title')\n",
    "    \n",
    "    # Iterate over each parent element\n",
    "    for parent_element in parent_elements:\n",
    "        # Find all child elements with the tag 'a' within the parent element\n",
    "        child_elements = parent_element.find_elements(By.TAG_NAME, 'a')\n",
    "        \n",
    "        # Iterate over the child elements and get their href attribute values\n",
    "        href_values = [element.get_attribute('href') for element in child_elements]\n",
    "         \n",
    "        for link in href_values:\n",
    "            links.append(link)\n",
    "            print(\"Appended \" + link)\n",
    "\n",
    "# CLose browser\n",
    "driver.quit()"
   ]
  },
  {
   "cell_type": "code",
   "execution_count": 4,
   "id": "f19943f7-3b0d-44e1-867b-8eeec93e1c0e",
   "metadata": {},
   "outputs": [
    {
     "name": "stdout",
     "output_type": "stream",
     "text": [
      "Number of files to read and download: 25\n"
     ]
    }
   ],
   "source": [
    "print(\"Number of files to read and download: \" + str(len(links)))"
   ]
  },
  {
   "cell_type": "code",
   "execution_count": 5,
   "id": "a42ea35c-b881-455e-8b91-8c92e52da382",
   "metadata": {},
   "outputs": [
    {
     "name": "stdout",
     "output_type": "stream",
     "text": [
      "https://tile.loc.gov/storage-services/service/ll/cfr/cf/r1/98/60/92/-T/29/CX/IV/P1/69/1/cfr1986092-T29CXIVP1691/cfr1986092-T29CXIVP1691.pdf\n",
      "Downloaded file saved as: cfr1986092-T29CXIVP1691.pdf\n",
      "\n",
      "https://tile.loc.gov/storage-services/service/ll/cfr/cf/r1/98/40/93/-T/29/CX/IV/P1/69/1/cfr1984093-T29CXIVP1691/cfr1984093-T29CXIVP1691.pdf\n",
      "Downloaded file saved as: cfr1984093-T29CXIVP1691.pdf\n",
      "\n",
      "https://tile.loc.gov/storage-services/service/ll/cfr/cf/r1/98/70/99/-T/29/CX/IV/P1/69/1/cfr1987099-T29CXIVP1691/cfr1987099-T29CXIVP1691.pdf\n",
      "Downloaded file saved as: cfr1987099-T29CXIVP1691.pdf\n",
      "\n",
      "https://tile.loc.gov/storage-services/service/ll/cfr/cf/r1/98/50/92/-T/29/CX/IV/P1/69/1/cfr1985092-T29CXIVP1691/cfr1985092-T29CXIVP1691.pdf\n",
      "Downloaded file saved as: cfr1985092-T29CXIVP1691.pdf\n",
      "\n",
      "https://tile.loc.gov/storage-services/service/ll/cfr/cf/r1/98/81/06/-T/29/CX/IV/P1/69/1/cfr1988106-T29CXIVP1691/cfr1988106-T29CXIVP1691.pdf\n",
      "Downloaded file saved as: cfr1988106-T29CXIVP1691.pdf\n",
      "\n",
      "https://tile.loc.gov/storage-services/service/ll/cfr/cf/r1/98/30/98/-T/29/CX/IV/P1/69/1/cfr1983098-T29CXIVP1691/cfr1983098-T29CXIVP1691.pdf\n",
      "Downloaded file saved as: cfr1983098-T29CXIVP1691.pdf\n",
      "\n",
      "https://tile.loc.gov/storage-services/service/ll/cfr/cf/r1/99/21/07/-T/29/CX/IV/P1/69/1/cfr1992107-T29CXIVP1691/cfr1992107-T29CXIVP1691.pdf\n",
      "Downloaded file saved as: cfr1992107-T29CXIVP1691.pdf\n",
      "\n",
      "https://tile.loc.gov/storage-services/service/ll/cfr/cf/r1/99/51/12/-T/29/CX/IV/P1/69/1/cfr1995112-T29CXIVP1691/cfr1995112-T29CXIVP1691.pdf\n",
      "Downloaded file saved as: cfr1995112-T29CXIVP1691.pdf\n",
      "\n",
      "https://tile.loc.gov/storage-services/service/ll/cfr/cf/r1/98/91/06/-T/29/CX/IV/P1/69/1/cfr1989106-T29CXIVP1691/cfr1989106-T29CXIVP1691.pdf\n",
      "Downloaded file saved as: cfr1989106-T29CXIVP1691.pdf\n",
      "\n",
      "https://tile.loc.gov/storage-services/service/ll/cfr/cf/r1/99/01/08/-T/29/CX/IV/P1/69/1/cfr1990108-T29CXIVP1691/cfr1990108-T29CXIVP1691.pdf\n",
      "Downloaded file saved as: cfr1990108-T29CXIVP1691.pdf\n",
      "\n",
      "https://tile.loc.gov/storage-services/service/ll/cfr/cf/r1/99/31/09/-T/29/CX/IV/P1/69/1/cfr1993109-T29CXIVP1691/cfr1993109-T29CXIVP1691.pdf\n",
      "Downloaded file saved as: cfr1993109-T29CXIVP1691.pdf\n",
      "\n",
      "https://tile.loc.gov/storage-services/service/ll/cfr/cf/r1/99/11/07/-T/29/CX/IV/P1/69/1/cfr1991107-T29CXIVP1691/cfr1991107-T29CXIVP1691.pdf\n",
      "Downloaded file saved as: cfr1991107-T29CXIVP1691.pdf\n",
      "\n",
      "https://tile.loc.gov/storage-services/service/ll/cfr/cf/r1/99/41/09/-T/29/CX/IV/P1/69/1/cfr1994109-T29CXIVP1691/cfr1994109-T29CXIVP1691.pdf\n",
      "Downloaded file saved as: cfr1994109-T29CXIVP1691.pdf\n",
      "\n",
      "https://tile.loc.gov/storage-services/service/ll/cfr/cf/r1/99/21/07/-T/29/CX/IV/P1/64/1/cfr1992107-T29CXIVP1641/cfr1992107-T29CXIVP1641.pdf\n",
      "Downloaded file saved as: cfr1992107-T29CXIVP1641.pdf\n",
      "\n",
      "https://tile.loc.gov/storage-services/service/ll/cfr/cf/r1/99/51/12/-T/29/CX/IV/P1/64/1/cfr1995112-T29CXIVP1641/cfr1995112-T29CXIVP1641.pdf\n",
      "Downloaded file saved as: cfr1995112-T29CXIVP1641.pdf\n",
      "\n",
      "https://tile.loc.gov/storage-services/service/ll/cfr/cf/r1/99/31/09/-T/29/CX/IV/P1/64/1/cfr1993109-T29CXIVP1641/cfr1993109-T29CXIVP1641.pdf\n",
      "Downloaded file saved as: cfr1993109-T29CXIVP1641.pdf\n",
      "\n",
      "https://tile.loc.gov/storage-services/service/ll/cfr/cf/r1/99/41/09/-T/29/CX/IV/P1/64/1/cfr1994109-T29CXIVP1641/cfr1994109-T29CXIVP1641.pdf\n",
      "Downloaded file saved as: cfr1994109-T29CXIVP1641.pdf\n",
      "\n",
      "https://tile.loc.gov/storage-services/service/ll/cfr/cf/r1/99/21/52/-T/41/C6/0P/60/-7/42/cfr1992152-T41C60P60-742/cfr1992152-T41C60P60-742.pdf\n",
      "Downloaded file saved as: cfr1992152-T41C60P60-742.pdf\n",
      "\n",
      "https://tile.loc.gov/storage-services/service/ll/cfr/cf/r1/99/51/59/-T/41/C6/0P/60/-7/42/cfr1995159-T41C60P60-742/cfr1995159-T41C60P60-742.pdf\n",
      "Downloaded file saved as: cfr1995159-T41C60P60-742.pdf\n",
      "\n",
      "https://tile.loc.gov/storage-services/service/ll/cfr/cf/r1/99/31/55/-T/41/C6/0P/60/-7/42/cfr1993155-T41C60P60-742/cfr1993155-T41C60P60-742.pdf\n",
      "Downloaded file saved as: cfr1993155-T41C60P60-742.pdf\n",
      "\n",
      "https://tile.loc.gov/storage-services/service/ll/cfr/cf/r1/99/41/56/-T/41/C6/0P/60/-7/42/cfr1994156-T41C60P60-742/cfr1994156-T41C60P60-742.pdf\n",
      "Downloaded file saved as: cfr1994156-T41C60P60-742.pdf\n",
      "\n",
      "https://tile.loc.gov/storage-services/service/ll/cfr/cf/r1/99/51/07/-T/28/CI/P3/7/cfr1995107-T28CIP37/cfr1995107-T28CIP37.pdf\n",
      "Downloaded file saved as: cfr1995107-T28CIP37.pdf\n",
      "\n",
      "https://tile.loc.gov/storage-services/service/ll/usrep/usrep468/usrep468042/usrep468042.pdf\n",
      "Downloaded file saved as: usrep468042.pdf\n",
      "\n",
      "https://tile.loc.gov/storage-services/service/ll/usrep/usrep493/usrep493182/usrep493182.pdf\n",
      "Downloaded file saved as: usrep493182.pdf\n",
      "\n",
      "https://tile.loc.gov/storage-services/service/ll/usrep/usrep517/usrep517308/usrep517308.pdf\n",
      "Downloaded file saved as: usrep517308.pdf\n",
      "\n"
     ]
    }
   ],
   "source": [
    "# Open browser\n",
    "driver = webdriver.Chrome()\n",
    "\n",
    "# Iterate over each pdf's link\n",
    "for link in links:\n",
    "    driver.get(link)\n",
    "\n",
    "    select_element = Select(driver.find_element(By.ID, 'select-resource0'))\n",
    "    first_option = select_element.options[0]\n",
    "    first_option_value = first_option.get_attribute(\"value\")\n",
    "    print(first_option_value)\n",
    "\n",
    "    # Extract filename from the URL\n",
    "    path = urlsplit(first_option_value).path\n",
    "    filename = os.path.basename(path)\n",
    "    \n",
    "    # Download the PDF\n",
    "    response = requests.get(first_option_value)\n",
    "    \n",
    "    # Save the PDF to a file\n",
    "    with open(\"../data/\" + filename, 'wb') as file:\n",
    "        file.write(response.content)\n",
    "    \n",
    "    print(f'Downloaded file saved as: {filename}' + \"\\n\")\n",
    "\n",
    "# CLose browser\n",
    "driver.quit()"
   ]
  }
 ],
 "metadata": {
  "kernelspec": {
   "display_name": "Python 3 (ipykernel)",
   "language": "python",
   "name": "python3"
  },
  "language_info": {
   "codemirror_mode": {
    "name": "ipython",
    "version": 3
   },
   "file_extension": ".py",
   "mimetype": "text/x-python",
   "name": "python",
   "nbconvert_exporter": "python",
   "pygments_lexer": "ipython3",
   "version": "3.12.4"
  }
 },
 "nbformat": 4,
 "nbformat_minor": 5
}
